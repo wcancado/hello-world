{
  "nbformat": 4,
  "nbformat_minor": 0,
  "metadata": {
    "colab": {
      "name": "Untitled1.ipynb",
      "provenance": [],
      "include_colab_link": true
    },
    "kernelspec": {
      "name": "python3",
      "display_name": "Python 3"
    }
  },
  "cells": [
    {
      "cell_type": "markdown",
      "metadata": {
        "id": "view-in-github",
        "colab_type": "text"
      },
      "source": [
        "<a href=\"https://colab.research.google.com/github/wcancado/hello-world/blob/master/econometria.ipynb\" target=\"_parent\"><img src=\"https://colab.research.google.com/assets/colab-badge.svg\" alt=\"Open In Colab\"/></a>"
      ]
    },
    {
      "cell_type": "markdown",
      "metadata": {
        "id": "SYVurzvsMQPR",
        "colab_type": "text"
      },
      "source": [
        "Estudo de econometria, importando pandas e tranformando planilha em dataframe para sequencia de estudo"
      ]
    },
    {
      "cell_type": "code",
      "metadata": {
        "id": "zg136i2OMOrx",
        "colab_type": "code",
        "colab": {}
      },
      "source": [
        "import pandas as pd\n",
        "xlsx = pd.ExcelFile('rclio.xlsx')\n",
        "df=pd.read_xlsx(rclio.xlsx)"
      ],
      "execution_count": 0,
      "outputs": []
    }
  ]
}