{
  "nbformat": 4,
  "nbformat_minor": 0,
  "metadata": {
    "colab": {
      "name": "econometria.ipynb",
      "provenance": [],
      "collapsed_sections": [],
      "include_colab_link": true
    },
    "kernelspec": {
      "name": "python3",
      "display_name": "Python 3"
    }
  },
  "cells": [
    {
      "cell_type": "markdown",
      "metadata": {
        "id": "view-in-github",
        "colab_type": "text"
      },
      "source": [
        "<a href=\"https://colab.research.google.com/github/wcancado/hello-world/blob/master/econometria.ipynb\" target=\"_parent\"><img src=\"https://colab.research.google.com/assets/colab-badge.svg\" alt=\"Open In Colab\"/></a>"
      ]
    },
    {
      "cell_type": "markdown",
      "metadata": {
        "id": "SYVurzvsMQPR",
        "colab_type": "text"
      },
      "source": [
        "Estudo de econometria, importando pandas e tranformando planilha em dataframe para sequencia de estudo\n",
        "\n",
        "Dados no github"
      ]
    },
    {
      "cell_type": "code",
      "metadata": {
        "id": "zg136i2OMOrx",
        "colab_type": "code",
        "outputId": "daf73c5b-a36e-4009-999d-64ec8b6d3702",
        "colab": {
          "base_uri": "https://localhost:8080/",
          "height": 194
        }
      },
      "source": [
        "import pandas as pd\n",
        "xlsx = pd.ExcelFile('alirenda.xlsx')\n",
        "df=pd.read_excel(xlsx)\n",
        "df.head()"
      ],
      "execution_count": 7,
      "outputs": [
        {
          "output_type": "execute_result",
          "data": {
            "text/html": [
              "<div>\n",
              "<style scoped>\n",
              "    .dataframe tbody tr th:only-of-type {\n",
              "        vertical-align: middle;\n",
              "    }\n",
              "\n",
              "    .dataframe tbody tr th {\n",
              "        vertical-align: top;\n",
              "    }\n",
              "\n",
              "    .dataframe thead th {\n",
              "        text-align: right;\n",
              "    }\n",
              "</style>\n",
              "<table border=\"1\" class=\"dataframe\">\n",
              "  <thead>\n",
              "    <tr style=\"text-align: right;\">\n",
              "      <th></th>\n",
              "      <th>obs</th>\n",
              "      <th>YT</th>\n",
              "      <th>XT</th>\n",
              "    </tr>\n",
              "  </thead>\n",
              "  <tbody>\n",
              "    <tr>\n",
              "      <th>0</th>\n",
              "      <td>1</td>\n",
              "      <td>52.25</td>\n",
              "      <td>258.3</td>\n",
              "    </tr>\n",
              "    <tr>\n",
              "      <th>1</th>\n",
              "      <td>2</td>\n",
              "      <td>58.32</td>\n",
              "      <td>343.1</td>\n",
              "    </tr>\n",
              "    <tr>\n",
              "      <th>2</th>\n",
              "      <td>3</td>\n",
              "      <td>81.79</td>\n",
              "      <td>425.0</td>\n",
              "    </tr>\n",
              "    <tr>\n",
              "      <th>3</th>\n",
              "      <td>4</td>\n",
              "      <td>119.90</td>\n",
              "      <td>467.5</td>\n",
              "    </tr>\n",
              "    <tr>\n",
              "      <th>4</th>\n",
              "      <td>5</td>\n",
              "      <td>125.80</td>\n",
              "      <td>482.9</td>\n",
              "    </tr>\n",
              "  </tbody>\n",
              "</table>\n",
              "</div>"
            ],
            "text/plain": [
              "   obs      YT     XT\n",
              "0    1   52.25  258.3\n",
              "1    2   58.32  343.1\n",
              "2    3   81.79  425.0\n",
              "3    4  119.90  467.5\n",
              "4    5  125.80  482.9"
            ]
          },
          "metadata": {
            "tags": []
          },
          "execution_count": 7
        }
      ]
    },
    {
      "cell_type": "markdown",
      "metadata": {
        "id": "-p0A_t1BUJJB",
        "colab_type": "text"
      },
      "source": [
        "criando função de Covariancia entre x e y"
      ]
    },
    {
      "cell_type": "code",
      "metadata": {
        "id": "U--E3Yo8UQqG",
        "colab_type": "code",
        "outputId": "0c45a42c-959a-4b8d-df86-da4d5e145cc1",
        "colab": {
          "base_uri": "https://localhost:8080/",
          "height": 52
        }
      },
      "source": [
        "mqd = df['YT'].sum()/df['XT'].count()\n",
        "print(mqd)\n",
        "mp = df['YT'].sum()/df['YT'].count()\n",
        "print(mp)"
      ],
      "execution_count": 9,
      "outputs": [
        {
          "output_type": "stream",
          "text": [
            "130.31300000000002\n",
            "130.31300000000002\n"
          ],
          "name": "stdout"
        }
      ]
    },
    {
      "cell_type": "code",
      "metadata": {
        "id": "2gxo8WDYVgyW",
        "colab_type": "code",
        "outputId": "cd9d9330-982f-4e24-e5e1-e25172c42e85",
        "colab": {
          "base_uri": "https://localhost:8080/",
          "height": 35
        }
      },
      "source": [
        "def covariancia(x,y):\n",
        "  mex = x.sum()/x.count()\n",
        "  mey = y.sum()/y.count()\n",
        "  mxy=(x-mex)*(y-mey)\n",
        "  return mxy.sum()/x.count()\n",
        "covariancia(df['XT'],df['YT'])\n"
      ],
      "execution_count": 12,
      "outputs": [
        {
          "output_type": "execute_result",
          "data": {
            "text/plain": [
              "4914.9384249999985"
            ]
          },
          "metadata": {
            "tags": []
          },
          "execution_count": 12
        }
      ]
    },
    {
      "cell_type": "markdown",
      "metadata": {
        "id": "Wy2bHGWkbvsh",
        "colab_type": "text"
      },
      "source": [
        "Criando função de estimadores mmq (b1 b2) usando nova tabela de teste"
      ]
    },
    {
      "cell_type": "code",
      "metadata": {
        "id": "zZ6PU9YAb0mE",
        "colab_type": "code",
        "outputId": "2a02391c-cb45-4f9a-d5f6-26dfbabe1054",
        "colab": {
          "base_uri": "https://localhost:8080/",
          "height": 35
        }
      },
      "source": [
        "xlsxb = pd.ExcelFile('alirenda.xlsx')\n",
        "df=pd.read_excel(xlsxb)\n",
        "df.head()\n",
        "\n",
        "def estimadores (x,y):\n",
        "  n=x.count()\n",
        "  sxy = x*y\n",
        "  quadx=x*x\n",
        "  bdois = (n*sxy.sum()-x.sum()*y.sum())/(n*quadx.sum()-x.sum()**2)\n",
        "  bum = y.sum()/n - bdois*(x.sum()/n)\n",
        "  return bum, bdois\n",
        "estimadores(df['XT'],df['YT'])"
      ],
      "execution_count": 41,
      "outputs": [
        {
          "output_type": "execute_result",
          "data": {
            "text/plain": [
              "(40.76755646557794, 0.12828860105218062)"
            ]
          },
          "metadata": {
            "tags": []
          },
          "execution_count": 41
        }
      ]
    },
    {
      "cell_type": "markdown",
      "metadata": {
        "id": "rtFRsME2vYUV",
        "colab_type": "text"
      },
      "source": [
        "Calculando a elasticidade da E(y) = despesa media em relação a x= renda media\n",
        "a fórmula da elasticidade é dado por:bdois.x/E(y)"
      ]
    },
    {
      "cell_type": "code",
      "metadata": {
        "id": "2CVsGZPPxTqd",
        "colab_type": "code",
        "colab": {
          "base_uri": "https://localhost:8080/",
          "height": 35
        },
        "outputId": "1dd16b17-61a0-40f0-e341-7c6280a38410"
      },
      "source": [
        "def elasticidade (x,y,px):# nesse caso o x e y são as váriaveis de x e y e px o valor para qual se quer achar a elasticidade\n",
        "  bs= estimadores(x,y)\n",
        "  elaxy= bs[1]*(px/y.mean())\n",
        "  return elaxy\n",
        "elasticidade(df['XT'],df['YT'],1000)"
      ],
      "execution_count": 40,
      "outputs": [
        {
          "output_type": "execute_result",
          "data": {
            "text/plain": [
              "0.9844651036518276"
            ]
          },
          "metadata": {
            "tags": []
          },
          "execution_count": 40
        }
      ]
    },
    {
      "cell_type": "markdown",
      "metadata": {
        "id": "z4bz0N1v1Xvb",
        "colab_type": "text"
      },
      "source": [
        "predição"
      ]
    },
    {
      "cell_type": "code",
      "metadata": {
        "id": "CNknckhA22fW",
        "colab_type": "code",
        "colab": {
          "base_uri": "https://localhost:8080/",
          "height": 746
        },
        "outputId": "56617723-f927-4e87-bd56-c206f75d4b71"
      },
      "source": [
        "def predicao (x,y,px):\n",
        "  bs= estimadores(x,y)\n",
        "  pred = bs[0]+bs[1]*px\n",
        "  return pred\n",
        "predicao (df['XT'],df['YT'],df['XT'])"
      ],
      "execution_count": 39,
      "outputs": [
        {
          "output_type": "execute_result",
          "data": {
            "text/plain": [
              "0      73.904502\n",
              "1      84.783375\n",
              "2      95.290212\n",
              "3     100.742477\n",
              "4     102.718122\n",
              "5     103.333907\n",
              "6     104.462847\n",
              "7     107.400656\n",
              "8     110.466753\n",
              "9     111.159512\n",
              "10    113.199301\n",
              "11    116.239740\n",
              "12    116.624606\n",
              "13    118.677224\n",
              "14    119.177549\n",
              "15    121.717664\n",
              "16    125.386718\n",
              "17    125.951188\n",
              "18    131.108389\n",
              "19    131.185362\n",
              "20    133.109692\n",
              "21    133.135349\n",
              "22    133.430413\n",
              "23    133.430413\n",
              "24    134.982705\n",
              "25    136.021843\n",
              "26    136.688943\n",
              "27    138.690246\n",
              "28    144.706981\n",
              "29    145.771776\n",
              "30    146.682625\n",
              "31    147.670448\n",
              "32    147.760250\n",
              "33    158.549321\n",
              "34    158.549321\n",
              "35    160.024640\n",
              "36    162.859818\n",
              "37    170.852198\n",
              "38    187.183337\n",
              "39    188.889575\n",
              "Name: XT, dtype: float64"
            ]
          },
          "metadata": {
            "tags": []
          },
          "execution_count": 39
        }
      ]
    },
    {
      "cell_type": "markdown",
      "metadata": {
        "id": "_rxvNk4x5RQT",
        "colab_type": "text"
      },
      "source": [
        "Importando bibliotecas para analise mqo \n",
        "bibliotecas: matplotlib, scipy e statsmodels\n",
        "\n",
        "\n",
        "```\n",
        "import scipy as sp\n",
        "import matplotlib.pyplot as plt\n",
        "import statsmodels.formula.api as sm\n",
        "```\n",
        "\n",
        "\n",
        "\n",
        "\n"
      ]
    },
    {
      "cell_type": "code",
      "metadata": {
        "id": "1ck8-RMB5Za1",
        "colab_type": "code",
        "colab": {}
      },
      "source": [
        "import scipy as sp\n",
        "import matplotlib.pyplot as plt\n",
        "import statsmodels.formula.api as sm"
      ],
      "execution_count": 0,
      "outputs": []
    },
    {
      "cell_type": "code",
      "metadata": {
        "id": "UrRW2skg6Msh",
        "colab_type": "code",
        "colab": {
          "base_uri": "https://localhost:8080/",
          "height": 337
        },
        "outputId": "6f2db79a-cae6-47f4-9c65-7680c1fc62ca"
      },
      "source": [
        "print(\"Estatísticas descritivas de Renda e consumo:\")\n",
        "df['XT'].describe(), df['YT'].describe()"
      ],
      "execution_count": 14,
      "outputs": [
        {
          "output_type": "stream",
          "text": [
            "Estatísticas descritivas de Renda e consumo:\n"
          ],
          "name": "stdout"
        },
        {
          "output_type": "execute_result",
          "data": {
            "text/plain": [
              "(count      40.00000\n",
              " mean      698.00000\n",
              " std       198.22695\n",
              " min       258.30000\n",
              " 25%       560.62500\n",
              " 50%       712.30000\n",
              " 75%       820.27500\n",
              " max      1154.60000\n",
              " Name: XT, dtype: float64, count     40.000000\n",
              " mean     130.313000\n",
              " std       45.158568\n",
              " min       52.250000\n",
              " 25%      100.365000\n",
              " 50%      120.705000\n",
              " 75%      147.685000\n",
              " max      269.030000\n",
              " Name: YT, dtype: float64)"
            ]
          },
          "metadata": {
            "tags": []
          },
          "execution_count": 14
        }
      ]
    },
    {
      "cell_type": "markdown",
      "metadata": {
        "id": "qyJqAt2O8mID",
        "colab_type": "text"
      },
      "source": [
        "histograma"
      ]
    },
    {
      "cell_type": "code",
      "metadata": {
        "id": "oIyHdoyD7aow",
        "colab_type": "code",
        "colab": {
          "base_uri": "https://localhost:8080/",
          "height": 281
        },
        "outputId": "27819c52-07b2-49ac-b3ad-0b5282b861e2"
      },
      "source": [
        "# Elabora um histograma\n",
        "plt.hist(df['XT'], color='red', bins=10)\n",
        "plt.title('Histograma da variável resposta')\n",
        "plt.show()"
      ],
      "execution_count": 16,
      "outputs": [
        {
          "output_type": "display_data",
          "data": {
            "image/png": "[encoded data removed]",
            "text/plain": [
              "<Figure size 432x288 with 1 Axes>"
            ]
          },
          "metadata": {
            "tags": []
          }
        }
      ]
    },
    {
      "cell_type": "markdown",
      "metadata": {
        "id": "mYrtA1V58r-d",
        "colab_type": "text"
      },
      "source": [
        "Regressão e analise\n",
        "exemplo\n",
        "```\n",
        "# This is formatted as code\n",
        "reg = sm.ols(formula='y~x1+x2+x3+x4+categoria', data=dados).fit()\n",
        "print(reg.summary())\n",
        "```\n",
        "\n"
      ]
    },
    {
      "cell_type": "code",
      "metadata": {
        "id": "1N0FcQiM9V9q",
        "colab_type": "code",
        "colab": {
          "base_uri": "https://localhost:8080/",
          "height": 497
        },
        "outputId": "2f82cf12-3c33-4f4d-994e-37c7241dd429"
      },
      "source": [
        "reg=sm.ols(formula='YT~XT',data=df).fit()\n",
        "print (reg.summary())"
      ],
      "execution_count": 17,
      "outputs": [
        {
          "output_type": "stream",
          "text": [
            "                            OLS Regression Results                            \n",
            "==============================================================================\n",
            "Dep. Variable:                     YT   R-squared:                       0.317\n",
            "Model:                            OLS   Adj. R-squared:                  0.299\n",
            "Method:                 Least Squares   F-statistic:                     17.65\n",
            "Date:                Sat, 16 Nov 2019   Prob (F-statistic):           0.000155\n",
            "Time:                        01:20:19   Log-Likelihood:                -201.03\n",
            "No. Observations:                  40   AIC:                             406.1\n",
            "Df Residuals:                      38   BIC:                             409.4\n",
            "Df Model:                           1                                         \n",
            "Covariance Type:            nonrobust                                         \n",
            "==============================================================================\n",
            "                 coef    std err          t      P>|t|      [0.025      0.975]\n",
            "------------------------------------------------------------------------------\n",
            "Intercept     40.7676     22.139      1.841      0.073      -4.050      85.585\n",
            "XT             0.1283      0.031      4.201      0.000       0.066       0.190\n",
            "==============================================================================\n",
            "Omnibus:                        1.365   Durbin-Watson:                   2.370\n",
            "Prob(Omnibus):                  0.505   Jarque-Bera (JB):                1.077\n",
            "Skew:                           0.397   Prob(JB):                        0.584\n",
            "Kurtosis:                       2.874   Cond. No.                     2.68e+03\n",
            "==============================================================================\n",
            "\n",
            "Warnings:\n",
            "[1] Standard Errors assume that the covariance matrix of the errors is correctly specified.\n",
            "[2] The condition number is large, 2.68e+03. This might indicate that there are\n",
            "strong multicollinearity or other numerical problems.\n"
          ],
          "name": "stdout"
        }
      ]
    },
    {
      "cell_type": "code",
      "metadata": {
        "id": "2QmyqLlTzAUF",
        "colab_type": "code",
        "colab": {
          "base_uri": "https://localhost:8080/",
          "height": 195
        },
        "outputId": "d51c4021-3bd2-4fa3-efd1-2cfc681626d9"
      },
      "source": [
        "reg.predict()"
      ],
      "execution_count": 18,
      "outputs": [
        {
          "output_type": "execute_result",
          "data": {
            "text/plain": [
              "array([ 73.90450212,  84.78337549,  95.29021191, 100.74247746,\n",
              "       102.71812191, 103.3339072 , 104.46284689, 107.40065585,\n",
              "       110.46675342, 111.15951186, 113.19930062, 116.23974046,\n",
              "       116.62460627, 118.67722388, 119.17754943, 121.71766373,\n",
              "       125.38671772, 125.95118756, 131.10838933, 131.18536249,\n",
              "       133.1096915 , 133.13534922, 133.43041301, 133.43041301,\n",
              "       134.98270508, 136.02184275, 136.68894347, 138.69024565,\n",
              "       144.70698104, 145.77177643, 146.68262549, 147.67044772,\n",
              "       147.76024974, 158.54932109, 158.54932109, 160.02464   ,\n",
              "       162.85981809, 170.85219793, 187.18333685, 188.88957524])"
            ]
          },
          "metadata": {
            "tags": []
          },
          "execution_count": 18
        }
      ]
    },
    {
      "cell_type": "markdown",
      "metadata": {
        "id": "qPrp82WZw0MN",
        "colab_type": "text"
      },
      "source": [
        "histograma dos resíduos de regreção\n",
        "\n",
        "modelo\n",
        "```\n",
        "# This is formatted as code\n",
        "y_hat = reg.predict()\n",
        "res = y - y_hat\n",
        "\n",
        "plt.hist(res, color='orange', bins=15)\n",
        "plt.title('Histograma dos resíduos da regressão')\n",
        "plt.show() \n",
        "```\n",
        "\n"
      ]
    },
    {
      "cell_type": "code",
      "metadata": {
        "id": "jfZjWJN1xFa0",
        "colab_type": "code",
        "colab": {
          "base_uri": "https://localhost:8080/",
          "height": 281
        },
        "outputId": "9eba0e22-c4fd-4fe9-bdfa-2953ee1667d0"
      },
      "source": [
        "y_hat = reg.predict()\n",
        "res= df['YT'] - y_hat\n",
        "\n",
        "plt.hist(res, color='orange', bins=15)\n",
        "plt.title('Histograma dos resíduos da regressão')\n",
        "plt.show()"
      ],
      "execution_count": 27,
      "outputs": [
        {
          "output_type": "display_data",
          "data": {
            "image/png": "[encoded data removed]",
            "text/plain": [
              "<Figure size 432x288 with 1 Axes>"
            ]
          },
          "metadata": {
            "tags": []
          }
        }
      ]
    },
    {
      "cell_type": "markdown",
      "metadata": {
        "id": "6yDDluEN09g4",
        "colab_type": "text"
      },
      "source": [
        "Plotando um grafico de dispersão\n",
        "\n",
        "modelo\n",
        "\n",
        "```\n",
        "# This is formatted as code\n",
        "plt.scatter(y=res, x=y_hat, color='green', s=50, alpha=.6)\n",
        "plt.hlines(y=0, xmin=-10, xmax=15, color='orange')\n",
        "plt.ylabel('$\\epsilon = y - \\hat{y}$ - Resíduos')\n",
        "plt.xlabel('$\\hat{y}$ ou $E(y)$ - Predito')\n",
        "plt.show()\n",
        "```\n",
        "\n"
      ]
    },
    {
      "cell_type": "code",
      "metadata": {
        "id": "rDpkuH2y0H8N",
        "colab_type": "code",
        "colab": {
          "base_uri": "https://localhost:8080/",
          "height": 286
        },
        "outputId": "84c203f3-8d9a-467e-a9be-37f55f7611ef"
      },
      "source": [
        "y_hat = predicao (df['XT'],df['YT'],df['XT'])\n",
        "res= df['YT'] - y_hat\n",
        "\n",
        "plt.scatter(y=res, x=y_hat, color='green', s=50, alpha=.6)\n",
        "plt.hlines(y=0, xmin=-10, xmax=200, color='orange')\n",
        "plt.ylabel('$\\epsilon = y - \\hat{y}$ - Resíduos')\n",
        "plt.xlabel('$\\hat{y}$ ou $E(y)$ - Predito')\n",
        "plt.show()"
      ],
      "execution_count": 29,
      "outputs": [
        {
          "output_type": "display_data",
          "data": {
            "image/png": "[encoded data removed]",
            "text/plain": [
              "<Figure size 432x288 with 1 Axes>"
            ]
          },
          "metadata": {
            "tags": []
          }
        }
      ]
    },
    {
      "cell_type": "markdown",
      "metadata": {
        "id": "TdKTSx7L2Lsm",
        "colab_type": "text"
      },
      "source": [
        "Coeficientes de regressão\n",
        "\n",
        "modelo\n",
        "\n",
        "\n",
        "```\n",
        "# This is formatted as code\n",
        "coefs = pd.DataFrame(reg.params)\n",
        "coefs.columns = ['Coeficientes']\n",
        "print(coefs)\n",
        "```\n",
        "\n"
      ]
    },
    {
      "cell_type": "code",
      "metadata": {
        "id": "FOWl0Mht213-",
        "colab_type": "code",
        "colab": {
          "base_uri": "https://localhost:8080/",
          "height": 70
        },
        "outputId": "4e4a86e3-37c0-4fca-d13e-f2f05e56cb9a"
      },
      "source": [
        "coefs = pd.DataFrame(reg.params)\n",
        "coefs.columns = ['Coeficientes']\n",
        "print(coefs)"
      ],
      "execution_count": 30,
      "outputs": [
        {
          "output_type": "stream",
          "text": [
            "           Coeficientes\n",
            "Intercept     40.767556\n",
            "XT             0.128289\n"
          ],
          "name": "stdout"
        }
      ]
    },
    {
      "cell_type": "markdown",
      "metadata": {
        "id": "zOgp5GpA3N3b",
        "colab_type": "text"
      },
      "source": [
        "Traçando a reta de regressão:\n",
        "\n",
        "modelo\n",
        "\n",
        "\n",
        "```\n",
        "plt.scatter(y=dados['y'], x=dados['x1'], color='blue', s=50, alpha=.5)\n",
        "X_plot = sp.linspace(min(dados['x1']), max(dados['x1']), len(dados['x1']))\n",
        "plt.plot(X_plot, X_plot*reg.params[1] + reg.params[0], color='r')\n",
        "plt.ylim(-11,16)\n",
        "plt.xlim(-2.5,3)\n",
        "plt.title('Reta de regressão')\n",
        "plt.ylabel('$y$ - Variável Dependente')\n",
        "plt.xlabel('$x1$ - Preditor')\n",
        "plt.show()\n",
        "```\n",
        "\n"
      ]
    },
    {
      "cell_type": "code",
      "metadata": {
        "id": "5EoUF5eq3Y_p",
        "colab_type": "code",
        "colab": {
          "base_uri": "https://localhost:8080/",
          "height": 297
        },
        "outputId": "2ea288da-40e9-4716-af1b-e32e0fe957ac"
      },
      "source": [
        "plt.scatter(y=df['YT'], x=df['XT'], color='blue', s=30, alpha=.6) #define a dispersão, cor, tamanho e transparencia\n",
        "'''\n",
        "A função linspace cria uma seqüência de números uniformemente espaçados entre os\n",
        " limites dados, opcionalmente incluindo o valor final (por default, esse é o \n",
        " comportamento). Esta função vai devolver um arranjo unidimensional que pode \n",
        " ser usado em qualquer operação que exija arranjos.\n",
        "\n",
        " '''\n",
        "X_plot = sp.linspace(min(df['XT']), max(df['XT']), len(df['XT'])) #função numpy que define intervalos entre o inicio e fim de x\n",
        "plt.plot(X_plot, X_plot*reg.params[1] + reg.params[0], color='r') #define a reta de regressão (X_plot=x e reta regressão = y)\n",
        "plt.ylim(0,200)\n",
        "plt.xlim(0,1200)\n",
        "plt.title('Reta de regressão')\n",
        "plt.ylabel('$y$ - Variável Dependente')\n",
        "plt.xlabel('$x1$ - Preditor')\n",
        "plt.show()\n",
        "print = (X_plot)"
      ],
      "execution_count": 37,
      "outputs": [
        {
          "output_type": "display_data",
          "data": {
            "image/png": "[encoded data removed]",
            "text/plain": [
              "<Figure size 432x288 with 1 Axes>"
            ]
          },
          "metadata": {
            "tags": []
          }
        }
      ]
    },
    {
      "cell_type": "markdown",
      "metadata": {
        "id": "rJQlhCWn8_TV",
        "colab_type": "text"
      },
      "source": [
        "Fazendo o mesmo gráfico de dispersão mas com parametros encontrados pela minha função coeficientes"
      ]
    },
    {
      "cell_type": "code",
      "metadata": {
        "id": "QDdm0yuD9NgI",
        "colab_type": "code",
        "colab": {
          "base_uri": "https://localhost:8080/",
          "height": 297
        },
        "outputId": "0e392fd3-efcc-48ce-baf0-7f90b08b1b85"
      },
      "source": [
        "plt.scatter(y=df['YT'], x=df['XT'], color='blue', s=30, alpha=.6) #define a dispersão, cor, tamanho e transparencia\n",
        "'''\n",
        "A função linspace cria uma seqüência de números uniformemente espaçados entre os\n",
        " limites dados, opcionalmente incluindo o valor final (por default, esse é o \n",
        " comportamento). Esta função vai devolver um arranjo unidimensional que pode \n",
        " ser usado em qualquer operação que exija arranjos.\n",
        "\n",
        " '''\n",
        "X_plot = sp.linspace(min(df['XT']), max(df['XT']), len(df['XT'])) #função numpy que define intervalos entre o inicio e fim de x\n",
        "bs= estimadores(df['XT'],df['YT'])\n",
        "plt.plot(X_plot, X_plot*bs[1] + bs[0], color='r') #define a reta de regressão (X_plot=x e reta regressão = y)\n",
        "plt.ylim(40,200)\n",
        "plt.xlim(200,1200)\n",
        "plt.title('Reta de regressão')\n",
        "plt.ylabel('$y$ - Variável Dependente')\n",
        "plt.xlabel('$x1$ - Preditor')\n",
        "plt.show()"
      ],
      "execution_count": 43,
      "outputs": [
        {
          "output_type": "display_data",
          "data": {
            "image/png": "[encoded data removed]",
            "text/plain": [
              "<Figure size 432x288 with 1 Axes>"
            ]
          },
          "metadata": {
            "tags": []
          }
        }
      ]
    }
  ]
}